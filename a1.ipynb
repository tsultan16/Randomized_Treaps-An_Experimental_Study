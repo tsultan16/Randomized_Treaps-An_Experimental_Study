{
 "cells": [
  {
   "cell_type": "markdown",
   "metadata": {},
   "source": [
    "#### Assignment 1: An Experimental Study on Treaps\n",
    "\n",
    "\n",
    "Key components:\n",
    "\n",
    "1) Data Generator\n",
    "\n",
    "2) Randomized Treap\n",
    "\n",
    "3) Competitior"
   ]
  },
  {
   "cell_type": "code",
   "execution_count": 1,
   "metadata": {},
   "outputs": [],
   "source": [
    "import random"
   ]
  },
  {
   "cell_type": "code",
   "execution_count": null,
   "metadata": {},
   "outputs": [],
   "source": [
    "class DataGenerator():\n",
    "    def __init__(self):\n",
    "        self.data = []\n",
    "        self.id_next = 1\n",
    "\n",
    "    def gen_element(self):\n",
    "       # sample a uniform random integer key from [0, 10^7]\n",
    "       key = random.randint(0, 10**7)\n",
    "       id = self.id_next\n",
    "       self.id_next += 1\n",
    "       self.data.append(key)\n",
    "       return (id, key)\n",
    "    \n",
    "    def gen_insertion(self):\n",
    "        x = self.gen_element()\n",
    "        return (1,x)\n",
    "    \n",
    "    def gen_deletion(self):\n",
    "        # sample a uniform random integer id from [1, id_next-1]\n",
    "        id_del = random.randint(1, self.id_next-1)\n",
    "        # get the key associated with id_del\n",
    "        key_del = self.data[id_del-1]\n",
    "        return (2, key_del)\n",
    "\n",
    "    def gen_search(self):\n",
    "      # sample a uniform random integer key from [0, 10^7]\n",
    "       key_sch = random.randint(0, 10**7)\n",
    "       return (3, key_sch)  \n",
    "\n",
    "       "
   ]
  },
  {
   "cell_type": "code",
   "execution_count": null,
   "metadata": {},
   "outputs": [],
   "source": []
  },
  {
   "cell_type": "code",
   "execution_count": null,
   "metadata": {},
   "outputs": [],
   "source": []
  },
  {
   "cell_type": "code",
   "execution_count": null,
   "metadata": {},
   "outputs": [],
   "source": []
  },
  {
   "cell_type": "code",
   "execution_count": null,
   "metadata": {},
   "outputs": [],
   "source": []
  }
 ],
 "metadata": {
  "kernelspec": {
   "display_name": "torch_clone",
   "language": "python",
   "name": "python3"
  },
  "language_info": {
   "codemirror_mode": {
    "name": "ipython",
    "version": 3
   },
   "file_extension": ".py",
   "mimetype": "text/x-python",
   "name": "python",
   "nbconvert_exporter": "python",
   "pygments_lexer": "ipython3",
   "version": "3.11.5"
  }
 },
 "nbformat": 4,
 "nbformat_minor": 2
}
